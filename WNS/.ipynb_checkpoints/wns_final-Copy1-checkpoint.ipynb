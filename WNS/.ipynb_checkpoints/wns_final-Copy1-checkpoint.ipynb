{
 "cells": [
  {
   "cell_type": "code",
   "execution_count": 3,
   "metadata": {},
   "outputs": [],
   "source": [
    "import pandas as pd\n",
    "import numpy as np\n",
    "from sklearn.metrics import f1_score\n",
    "from sklearn.model_selection import train_test_split\n",
    "from xgboost import XGBRegressor\n",
    "\n",
    "df = pd.read_csv(\"train.csv\")\n",
    "df.columns = df.columns.str.replace('[?>% ]','')\n",
    "\n",
    "#temporarily fill na\n",
    "df.education=df.education.fillna(\"Bachelor's\")\n",
    "df.previous_year_rating=df.previous_year_rating.fillna(int(3))\n",
    "dfnew=pd.get_dummies(df)\n",
    "\n",
    "y = dfnew.is_promoted\n",
    "x_train, x_test, y_train, y_test = train_test_split(dfnew.drop(['is_promoted'],axis=1),y,test_size=0.35,random_state=42)\n",
    "train_idx = x_train.employee_id\n",
    "test_idx = x_test.employee_id\n",
    "x_train = x_train.drop(['employee_id'],axis=1)\n",
    "x_test = x_test.drop(['employee_id'],axis=1)\n",
    "pred = pd.DataFrame()\n",
    "for i in range(5):\n",
    "    #random.seed(random.randint(1,100))\n",
    "    clf = XGBRegressor()\n",
    "    model = clf.fit(X=x_train,y=y_train)\n",
    "    yhat = model.predict(x_test)\n",
    "    pred = pd.concat([pred,pd.DataFrame(yhat)],axis=1)\n",
    "\n",
    "pred['prediction'] = pred.apply(lambda x: x.mean() ,axis=1)\n",
    "\n",
    "pred = pred.prediction\n",
    "cutoff = 0.24\n",
    "pred[pred<=cutoff] = 0\n",
    "pred[pred>cutoff] = 1\n",
    "## test\n",
    "sub = pd.read_csv('test.csv')\n",
    "sub.columns = sub.columns.str.replace('[?>% ]','')\n",
    "#temporarily fill na\n",
    "sub.education=sub.education.fillna(\"Bachelor's\")\n",
    "sub.previous_year_rating = sub.previous_year_rating.fillna(int(3))\n",
    "subnew=pd.get_dummies(sub)\n",
    "submission = model.predict(subnew.drop(['employee_id'],axis=1))\n",
    "submission[submission<=0.24] = 0\n",
    "submission[submission>0.24] = 1\n",
    "submission = pd.concat([subnew.employee_id,pd.DataFrame(submission)],axis=1)\n",
    "submission.columns = ['employee_id','is_promoted']\n",
    "submission.to_csv('wns_final_submission.csv',index=False)\n"
   ]
  },
  {
   "cell_type": "code",
   "execution_count": null,
   "metadata": {},
   "outputs": [],
   "source": []
  }
 ],
 "metadata": {
  "kernelspec": {
   "display_name": "Python 3",
   "language": "python",
   "name": "python3"
  },
  "language_info": {
   "codemirror_mode": {
    "name": "ipython",
    "version": 3
   },
   "file_extension": ".py",
   "mimetype": "text/x-python",
   "name": "python",
   "nbconvert_exporter": "python",
   "pygments_lexer": "ipython3",
   "version": "3.6.5"
  }
 },
 "nbformat": 4,
 "nbformat_minor": 2
}
